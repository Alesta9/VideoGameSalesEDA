{
 "cells": [
  {
   "cell_type": "code",
   "execution_count": 1,
   "id": "a5b2d5a6",
   "metadata": {
    "_cell_guid": "b1076dfc-b9ad-4769-8c92-a6c4dae69d19",
    "_uuid": "8f2839f25d086af736a60e9eeb907d3b93b6e0e5",
    "execution": {
     "iopub.execute_input": "2022-03-08T18:34:08.103246Z",
     "iopub.status.busy": "2022-03-08T18:34:08.102005Z",
     "iopub.status.idle": "2022-03-08T18:34:09.153398Z",
     "shell.execute_reply": "2022-03-08T18:34:09.154019Z",
     "shell.execute_reply.started": "2022-03-08T18:17:22.318945Z"
    },
    "papermill": {
     "duration": 1.07851,
     "end_time": "2022-03-08T18:34:09.154309",
     "exception": false,
     "start_time": "2022-03-08T18:34:08.075799",
     "status": "completed"
    },
    "tags": []
   },
   "outputs": [],
   "source": [
    "# IMPORT LIBRARIES\n",
    "\n",
    "import numpy as np # linear algebra\n",
    "import pandas as pd # data processing, CSV file I/O (e.g. pd.read_csv)\n",
    "import matplotlib.pyplot as plt # visualization\n",
    "import seaborn as sns # visualization"
   ]
  },
  {
   "cell_type": "markdown",
   "id": "260e274d",
   "metadata": {
    "papermill": {
     "duration": 0.020453,
     "end_time": "2022-03-08T18:34:09.198201",
     "exception": false,
     "start_time": "2022-03-08T18:34:09.177748",
     "status": "completed"
    },
    "tags": []
   },
   "source": [
    "# Data Exploration"
   ]
  },
  {
   "cell_type": "code",
   "execution_count": 2,
   "id": "221838d6",
   "metadata": {
    "execution": {
     "iopub.execute_input": "2022-03-08T18:34:09.245305Z",
     "iopub.status.busy": "2022-03-08T18:34:09.244642Z",
     "iopub.status.idle": "2022-03-08T18:34:09.335846Z",
     "shell.execute_reply": "2022-03-08T18:34:09.336334Z",
     "shell.execute_reply.started": "2022-03-08T18:17:33.822086Z"
    },
    "papermill": {
     "duration": 0.117526,
     "end_time": "2022-03-08T18:34:09.336515",
     "exception": false,
     "start_time": "2022-03-08T18:34:09.218989",
     "status": "completed"
    },
    "tags": []
   },
   "outputs": [
    {
     "data": {
      "text/html": [
       "<div>\n",
       "<style scoped>\n",
       "    .dataframe tbody tr th:only-of-type {\n",
       "        vertical-align: middle;\n",
       "    }\n",
       "\n",
       "    .dataframe tbody tr th {\n",
       "        vertical-align: top;\n",
       "    }\n",
       "\n",
       "    .dataframe thead th {\n",
       "        text-align: right;\n",
       "    }\n",
       "</style>\n",
       "<table border=\"1\" class=\"dataframe\">\n",
       "  <thead>\n",
       "    <tr style=\"text-align: right;\">\n",
       "      <th></th>\n",
       "      <th>Rank</th>\n",
       "      <th>Name</th>\n",
       "      <th>Platform</th>\n",
       "      <th>Year</th>\n",
       "      <th>Genre</th>\n",
       "      <th>Publisher</th>\n",
       "      <th>NA_Sales</th>\n",
       "      <th>EU_Sales</th>\n",
       "      <th>JP_Sales</th>\n",
       "      <th>Other_Sales</th>\n",
       "      <th>Global_Sales</th>\n",
       "    </tr>\n",
       "  </thead>\n",
       "  <tbody>\n",
       "    <tr>\n",
       "      <th>0</th>\n",
       "      <td>1</td>\n",
       "      <td>Wii Sports</td>\n",
       "      <td>Wii</td>\n",
       "      <td>2006.0</td>\n",
       "      <td>Sports</td>\n",
       "      <td>Nintendo</td>\n",
       "      <td>41.49</td>\n",
       "      <td>29.02</td>\n",
       "      <td>3.77</td>\n",
       "      <td>8.46</td>\n",
       "      <td>82.74</td>\n",
       "    </tr>\n",
       "    <tr>\n",
       "      <th>1</th>\n",
       "      <td>2</td>\n",
       "      <td>Super Mario Bros.</td>\n",
       "      <td>NES</td>\n",
       "      <td>1985.0</td>\n",
       "      <td>Platform</td>\n",
       "      <td>Nintendo</td>\n",
       "      <td>29.08</td>\n",
       "      <td>3.58</td>\n",
       "      <td>6.81</td>\n",
       "      <td>0.77</td>\n",
       "      <td>40.24</td>\n",
       "    </tr>\n",
       "    <tr>\n",
       "      <th>2</th>\n",
       "      <td>3</td>\n",
       "      <td>Mario Kart Wii</td>\n",
       "      <td>Wii</td>\n",
       "      <td>2008.0</td>\n",
       "      <td>Racing</td>\n",
       "      <td>Nintendo</td>\n",
       "      <td>15.85</td>\n",
       "      <td>12.88</td>\n",
       "      <td>3.79</td>\n",
       "      <td>3.31</td>\n",
       "      <td>35.82</td>\n",
       "    </tr>\n",
       "    <tr>\n",
       "      <th>3</th>\n",
       "      <td>4</td>\n",
       "      <td>Wii Sports Resort</td>\n",
       "      <td>Wii</td>\n",
       "      <td>2009.0</td>\n",
       "      <td>Sports</td>\n",
       "      <td>Nintendo</td>\n",
       "      <td>15.75</td>\n",
       "      <td>11.01</td>\n",
       "      <td>3.28</td>\n",
       "      <td>2.96</td>\n",
       "      <td>33.00</td>\n",
       "    </tr>\n",
       "    <tr>\n",
       "      <th>4</th>\n",
       "      <td>5</td>\n",
       "      <td>Pokemon Red/Pokemon Blue</td>\n",
       "      <td>GB</td>\n",
       "      <td>1996.0</td>\n",
       "      <td>Role-Playing</td>\n",
       "      <td>Nintendo</td>\n",
       "      <td>11.27</td>\n",
       "      <td>8.89</td>\n",
       "      <td>10.22</td>\n",
       "      <td>1.00</td>\n",
       "      <td>31.37</td>\n",
       "    </tr>\n",
       "  </tbody>\n",
       "</table>\n",
       "</div>"
      ],
      "text/plain": [
       "   Rank                      Name Platform    Year         Genre Publisher  \\\n",
       "0     1                Wii Sports      Wii  2006.0        Sports  Nintendo   \n",
       "1     2         Super Mario Bros.      NES  1985.0      Platform  Nintendo   \n",
       "2     3            Mario Kart Wii      Wii  2008.0        Racing  Nintendo   \n",
       "3     4         Wii Sports Resort      Wii  2009.0        Sports  Nintendo   \n",
       "4     5  Pokemon Red/Pokemon Blue       GB  1996.0  Role-Playing  Nintendo   \n",
       "\n",
       "   NA_Sales  EU_Sales  JP_Sales  Other_Sales  Global_Sales  \n",
       "0     41.49     29.02      3.77         8.46         82.74  \n",
       "1     29.08      3.58      6.81         0.77         40.24  \n",
       "2     15.85     12.88      3.79         3.31         35.82  \n",
       "3     15.75     11.01      3.28         2.96         33.00  \n",
       "4     11.27      8.89     10.22         1.00         31.37  "
      ]
     },
     "execution_count": 2,
     "metadata": {},
     "output_type": "execute_result"
    }
   ],
   "source": [
    "# IMPORT DATA\n",
    "data = pd.read_csv(\"../input/videogamesales/vgsales.csv\")\n",
    "data.head() # Here is some information about the dataset."
   ]
  },
  {
   "cell_type": "code",
   "execution_count": 3,
   "id": "9b4eb957",
   "metadata": {
    "execution": {
     "iopub.execute_input": "2022-03-08T18:34:09.382762Z",
     "iopub.status.busy": "2022-03-08T18:34:09.382154Z",
     "iopub.status.idle": "2022-03-08T18:34:09.414297Z",
     "shell.execute_reply": "2022-03-08T18:34:09.413745Z",
     "shell.execute_reply.started": "2022-03-08T17:07:29.296251Z"
    },
    "papermill": {
     "duration": 0.056254,
     "end_time": "2022-03-08T18:34:09.414487",
     "exception": false,
     "start_time": "2022-03-08T18:34:09.358233",
     "status": "completed"
    },
    "tags": []
   },
   "outputs": [
    {
     "name": "stdout",
     "output_type": "stream",
     "text": [
      "<class 'pandas.core.frame.DataFrame'>\n",
      "RangeIndex: 16598 entries, 0 to 16597\n",
      "Data columns (total 11 columns):\n",
      " #   Column        Non-Null Count  Dtype  \n",
      "---  ------        --------------  -----  \n",
      " 0   Rank          16598 non-null  int64  \n",
      " 1   Name          16598 non-null  object \n",
      " 2   Platform      16598 non-null  object \n",
      " 3   Year          16327 non-null  float64\n",
      " 4   Genre         16598 non-null  object \n",
      " 5   Publisher     16540 non-null  object \n",
      " 6   NA_Sales      16598 non-null  float64\n",
      " 7   EU_Sales      16598 non-null  float64\n",
      " 8   JP_Sales      16598 non-null  float64\n",
      " 9   Other_Sales   16598 non-null  float64\n",
      " 10  Global_Sales  16598 non-null  float64\n",
      "dtypes: float64(6), int64(1), object(4)\n",
      "memory usage: 1.4+ MB\n"
     ]
    }
   ],
   "source": [
    "data.info() # Detailed info about the data"
   ]
  },
  {
   "cell_type": "code",
   "execution_count": 4,
   "id": "c4c6a705",
   "metadata": {
    "execution": {
     "iopub.execute_input": "2022-03-08T18:34:09.463449Z",
     "iopub.status.busy": "2022-03-08T18:34:09.462493Z",
     "iopub.status.idle": "2022-03-08T18:34:09.474112Z",
     "shell.execute_reply": "2022-03-08T18:34:09.474587Z",
     "shell.execute_reply.started": "2022-03-08T17:11:06.661752Z"
    },
    "papermill": {
     "duration": 0.037384,
     "end_time": "2022-03-08T18:34:09.474765",
     "exception": false,
     "start_time": "2022-03-08T18:34:09.437381",
     "status": "completed"
    },
    "tags": []
   },
   "outputs": [
    {
     "data": {
      "text/html": [
       "<div>\n",
       "<style scoped>\n",
       "    .dataframe tbody tr th:only-of-type {\n",
       "        vertical-align: middle;\n",
       "    }\n",
       "\n",
       "    .dataframe tbody tr th {\n",
       "        vertical-align: top;\n",
       "    }\n",
       "\n",
       "    .dataframe thead th {\n",
       "        text-align: right;\n",
       "    }\n",
       "</style>\n",
       "<table border=\"1\" class=\"dataframe\">\n",
       "  <thead>\n",
       "    <tr style=\"text-align: right;\">\n",
       "      <th></th>\n",
       "      <th>Genre</th>\n",
       "    </tr>\n",
       "  </thead>\n",
       "  <tbody>\n",
       "    <tr>\n",
       "      <th>0</th>\n",
       "      <td>Sports</td>\n",
       "    </tr>\n",
       "    <tr>\n",
       "      <th>1</th>\n",
       "      <td>Platform</td>\n",
       "    </tr>\n",
       "    <tr>\n",
       "      <th>2</th>\n",
       "      <td>Racing</td>\n",
       "    </tr>\n",
       "    <tr>\n",
       "      <th>3</th>\n",
       "      <td>Sports</td>\n",
       "    </tr>\n",
       "    <tr>\n",
       "      <th>4</th>\n",
       "      <td>Role-Playing</td>\n",
       "    </tr>\n",
       "    <tr>\n",
       "      <th>...</th>\n",
       "      <td>...</td>\n",
       "    </tr>\n",
       "    <tr>\n",
       "      <th>16593</th>\n",
       "      <td>Platform</td>\n",
       "    </tr>\n",
       "    <tr>\n",
       "      <th>16594</th>\n",
       "      <td>Shooter</td>\n",
       "    </tr>\n",
       "    <tr>\n",
       "      <th>16595</th>\n",
       "      <td>Racing</td>\n",
       "    </tr>\n",
       "    <tr>\n",
       "      <th>16596</th>\n",
       "      <td>Puzzle</td>\n",
       "    </tr>\n",
       "    <tr>\n",
       "      <th>16597</th>\n",
       "      <td>Platform</td>\n",
       "    </tr>\n",
       "  </tbody>\n",
       "</table>\n",
       "<p>16598 rows × 1 columns</p>\n",
       "</div>"
      ],
      "text/plain": [
       "              Genre\n",
       "0            Sports\n",
       "1          Platform\n",
       "2            Racing\n",
       "3            Sports\n",
       "4      Role-Playing\n",
       "...             ...\n",
       "16593      Platform\n",
       "16594       Shooter\n",
       "16595        Racing\n",
       "16596        Puzzle\n",
       "16597      Platform\n",
       "\n",
       "[16598 rows x 1 columns]"
      ]
     },
     "execution_count": 4,
     "metadata": {},
     "output_type": "execute_result"
    }
   ],
   "source": [
    "data_frame = data[['Genre']] # Creating DataFrame\n",
    "data_frame"
   ]
  },
  {
   "cell_type": "code",
   "execution_count": 5,
   "id": "056feae6",
   "metadata": {
    "execution": {
     "iopub.execute_input": "2022-03-08T18:34:09.522601Z",
     "iopub.status.busy": "2022-03-08T18:34:09.521900Z",
     "iopub.status.idle": "2022-03-08T18:34:09.528038Z",
     "shell.execute_reply": "2022-03-08T18:34:09.528643Z",
     "shell.execute_reply.started": "2022-03-08T17:11:16.794009Z"
    },
    "papermill": {
     "duration": 0.031695,
     "end_time": "2022-03-08T18:34:09.528815",
     "exception": false,
     "start_time": "2022-03-08T18:34:09.497120",
     "status": "completed"
    },
    "tags": []
   },
   "outputs": [
    {
     "data": {
      "text/plain": [
       "0              Sports\n",
       "1            Platform\n",
       "2              Racing\n",
       "3              Sports\n",
       "4        Role-Playing\n",
       "             ...     \n",
       "16593        Platform\n",
       "16594         Shooter\n",
       "16595          Racing\n",
       "16596          Puzzle\n",
       "16597        Platform\n",
       "Name: Genre, Length: 16598, dtype: object"
      ]
     },
     "execution_count": 5,
     "metadata": {},
     "output_type": "execute_result"
    }
   ],
   "source": [
    "series = data['Genre'] # Creating Series\n",
    "series"
   ]
  },
  {
   "cell_type": "markdown",
   "id": "e064350d",
   "metadata": {
    "papermill": {
     "duration": 0.022838,
     "end_time": "2022-03-08T18:34:09.574544",
     "exception": false,
     "start_time": "2022-03-08T18:34:09.551706",
     "status": "completed"
    },
    "tags": []
   },
   "source": [
    "# Data Filtering"
   ]
  },
  {
   "cell_type": "markdown",
   "id": "be2a3789",
   "metadata": {
    "papermill": {
     "duration": 0.02277,
     "end_time": "2022-03-08T18:34:09.620066",
     "exception": false,
     "start_time": "2022-03-08T18:34:09.597296",
     "status": "completed"
    },
    "tags": []
   },
   "source": [
    "**To filter data we can use these operators: |,&,<,>,=**"
   ]
  },
  {
   "cell_type": "code",
   "execution_count": 6,
   "id": "7cdebdcd",
   "metadata": {
    "execution": {
     "iopub.execute_input": "2022-03-08T18:34:09.670223Z",
     "iopub.status.busy": "2022-03-08T18:34:09.669569Z",
     "iopub.status.idle": "2022-03-08T18:34:09.676591Z",
     "shell.execute_reply": "2022-03-08T18:34:09.677139Z",
     "shell.execute_reply.started": "2022-03-08T17:23:51.843215Z"
    },
    "papermill": {
     "duration": 0.032706,
     "end_time": "2022-03-08T18:34:09.677312",
     "exception": false,
     "start_time": "2022-03-08T18:34:09.644606",
     "status": "completed"
    },
    "tags": []
   },
   "outputs": [
    {
     "data": {
      "text/plain": [
       "0         True\n",
       "1         True\n",
       "2         True\n",
       "3         True\n",
       "4         True\n",
       "         ...  \n",
       "16593    False\n",
       "16594    False\n",
       "16595    False\n",
       "16596    False\n",
       "16597    False\n",
       "Name: Rank, Length: 16598, dtype: bool"
      ]
     },
     "execution_count": 6,
     "metadata": {},
     "output_type": "execute_result"
    }
   ],
   "source": [
    "data1 = data[\"Rank\"]<11\n",
    "data1 # Return 'Rank' values that less than 11 as True or False"
   ]
  },
  {
   "cell_type": "code",
   "execution_count": 7,
   "id": "7c2cbde1",
   "metadata": {
    "execution": {
     "iopub.execute_input": "2022-03-08T18:34:09.726741Z",
     "iopub.status.busy": "2022-03-08T18:34:09.726115Z",
     "iopub.status.idle": "2022-03-08T18:34:09.748966Z",
     "shell.execute_reply": "2022-03-08T18:34:09.749564Z",
     "shell.execute_reply.started": "2022-03-08T17:26:23.802733Z"
    },
    "papermill": {
     "duration": 0.049139,
     "end_time": "2022-03-08T18:34:09.749737",
     "exception": false,
     "start_time": "2022-03-08T18:34:09.700598",
     "status": "completed"
    },
    "tags": []
   },
   "outputs": [
    {
     "data": {
      "text/html": [
       "<div>\n",
       "<style scoped>\n",
       "    .dataframe tbody tr th:only-of-type {\n",
       "        vertical-align: middle;\n",
       "    }\n",
       "\n",
       "    .dataframe tbody tr th {\n",
       "        vertical-align: top;\n",
       "    }\n",
       "\n",
       "    .dataframe thead th {\n",
       "        text-align: right;\n",
       "    }\n",
       "</style>\n",
       "<table border=\"1\" class=\"dataframe\">\n",
       "  <thead>\n",
       "    <tr style=\"text-align: right;\">\n",
       "      <th></th>\n",
       "      <th>Rank</th>\n",
       "      <th>Name</th>\n",
       "      <th>Platform</th>\n",
       "      <th>Year</th>\n",
       "      <th>Genre</th>\n",
       "      <th>Publisher</th>\n",
       "      <th>NA_Sales</th>\n",
       "      <th>EU_Sales</th>\n",
       "      <th>JP_Sales</th>\n",
       "      <th>Other_Sales</th>\n",
       "      <th>Global_Sales</th>\n",
       "    </tr>\n",
       "  </thead>\n",
       "  <tbody>\n",
       "    <tr>\n",
       "      <th>0</th>\n",
       "      <td>1</td>\n",
       "      <td>Wii Sports</td>\n",
       "      <td>Wii</td>\n",
       "      <td>2006.0</td>\n",
       "      <td>Sports</td>\n",
       "      <td>Nintendo</td>\n",
       "      <td>41.49</td>\n",
       "      <td>29.02</td>\n",
       "      <td>3.77</td>\n",
       "      <td>8.46</td>\n",
       "      <td>82.74</td>\n",
       "    </tr>\n",
       "    <tr>\n",
       "      <th>1</th>\n",
       "      <td>2</td>\n",
       "      <td>Super Mario Bros.</td>\n",
       "      <td>NES</td>\n",
       "      <td>1985.0</td>\n",
       "      <td>Platform</td>\n",
       "      <td>Nintendo</td>\n",
       "      <td>29.08</td>\n",
       "      <td>3.58</td>\n",
       "      <td>6.81</td>\n",
       "      <td>0.77</td>\n",
       "      <td>40.24</td>\n",
       "    </tr>\n",
       "    <tr>\n",
       "      <th>2</th>\n",
       "      <td>3</td>\n",
       "      <td>Mario Kart Wii</td>\n",
       "      <td>Wii</td>\n",
       "      <td>2008.0</td>\n",
       "      <td>Racing</td>\n",
       "      <td>Nintendo</td>\n",
       "      <td>15.85</td>\n",
       "      <td>12.88</td>\n",
       "      <td>3.79</td>\n",
       "      <td>3.31</td>\n",
       "      <td>35.82</td>\n",
       "    </tr>\n",
       "    <tr>\n",
       "      <th>3</th>\n",
       "      <td>4</td>\n",
       "      <td>Wii Sports Resort</td>\n",
       "      <td>Wii</td>\n",
       "      <td>2009.0</td>\n",
       "      <td>Sports</td>\n",
       "      <td>Nintendo</td>\n",
       "      <td>15.75</td>\n",
       "      <td>11.01</td>\n",
       "      <td>3.28</td>\n",
       "      <td>2.96</td>\n",
       "      <td>33.00</td>\n",
       "    </tr>\n",
       "    <tr>\n",
       "      <th>4</th>\n",
       "      <td>5</td>\n",
       "      <td>Pokemon Red/Pokemon Blue</td>\n",
       "      <td>GB</td>\n",
       "      <td>1996.0</td>\n",
       "      <td>Role-Playing</td>\n",
       "      <td>Nintendo</td>\n",
       "      <td>11.27</td>\n",
       "      <td>8.89</td>\n",
       "      <td>10.22</td>\n",
       "      <td>1.00</td>\n",
       "      <td>31.37</td>\n",
       "    </tr>\n",
       "    <tr>\n",
       "      <th>5</th>\n",
       "      <td>6</td>\n",
       "      <td>Tetris</td>\n",
       "      <td>GB</td>\n",
       "      <td>1989.0</td>\n",
       "      <td>Puzzle</td>\n",
       "      <td>Nintendo</td>\n",
       "      <td>23.20</td>\n",
       "      <td>2.26</td>\n",
       "      <td>4.22</td>\n",
       "      <td>0.58</td>\n",
       "      <td>30.26</td>\n",
       "    </tr>\n",
       "    <tr>\n",
       "      <th>6</th>\n",
       "      <td>7</td>\n",
       "      <td>New Super Mario Bros.</td>\n",
       "      <td>DS</td>\n",
       "      <td>2006.0</td>\n",
       "      <td>Platform</td>\n",
       "      <td>Nintendo</td>\n",
       "      <td>11.38</td>\n",
       "      <td>9.23</td>\n",
       "      <td>6.50</td>\n",
       "      <td>2.90</td>\n",
       "      <td>30.01</td>\n",
       "    </tr>\n",
       "    <tr>\n",
       "      <th>7</th>\n",
       "      <td>8</td>\n",
       "      <td>Wii Play</td>\n",
       "      <td>Wii</td>\n",
       "      <td>2006.0</td>\n",
       "      <td>Misc</td>\n",
       "      <td>Nintendo</td>\n",
       "      <td>14.03</td>\n",
       "      <td>9.20</td>\n",
       "      <td>2.93</td>\n",
       "      <td>2.85</td>\n",
       "      <td>29.02</td>\n",
       "    </tr>\n",
       "    <tr>\n",
       "      <th>8</th>\n",
       "      <td>9</td>\n",
       "      <td>New Super Mario Bros. Wii</td>\n",
       "      <td>Wii</td>\n",
       "      <td>2009.0</td>\n",
       "      <td>Platform</td>\n",
       "      <td>Nintendo</td>\n",
       "      <td>14.59</td>\n",
       "      <td>7.06</td>\n",
       "      <td>4.70</td>\n",
       "      <td>2.26</td>\n",
       "      <td>28.62</td>\n",
       "    </tr>\n",
       "    <tr>\n",
       "      <th>9</th>\n",
       "      <td>10</td>\n",
       "      <td>Duck Hunt</td>\n",
       "      <td>NES</td>\n",
       "      <td>1984.0</td>\n",
       "      <td>Shooter</td>\n",
       "      <td>Nintendo</td>\n",
       "      <td>26.93</td>\n",
       "      <td>0.63</td>\n",
       "      <td>0.28</td>\n",
       "      <td>0.47</td>\n",
       "      <td>28.31</td>\n",
       "    </tr>\n",
       "  </tbody>\n",
       "</table>\n",
       "</div>"
      ],
      "text/plain": [
       "   Rank                       Name Platform    Year         Genre Publisher  \\\n",
       "0     1                 Wii Sports      Wii  2006.0        Sports  Nintendo   \n",
       "1     2          Super Mario Bros.      NES  1985.0      Platform  Nintendo   \n",
       "2     3             Mario Kart Wii      Wii  2008.0        Racing  Nintendo   \n",
       "3     4          Wii Sports Resort      Wii  2009.0        Sports  Nintendo   \n",
       "4     5   Pokemon Red/Pokemon Blue       GB  1996.0  Role-Playing  Nintendo   \n",
       "5     6                     Tetris       GB  1989.0        Puzzle  Nintendo   \n",
       "6     7      New Super Mario Bros.       DS  2006.0      Platform  Nintendo   \n",
       "7     8                   Wii Play      Wii  2006.0          Misc  Nintendo   \n",
       "8     9  New Super Mario Bros. Wii      Wii  2009.0      Platform  Nintendo   \n",
       "9    10                  Duck Hunt      NES  1984.0       Shooter  Nintendo   \n",
       "\n",
       "   NA_Sales  EU_Sales  JP_Sales  Other_Sales  Global_Sales  \n",
       "0     41.49     29.02      3.77         8.46         82.74  \n",
       "1     29.08      3.58      6.81         0.77         40.24  \n",
       "2     15.85     12.88      3.79         3.31         35.82  \n",
       "3     15.75     11.01      3.28         2.96         33.00  \n",
       "4     11.27      8.89     10.22         1.00         31.37  \n",
       "5     23.20      2.26      4.22         0.58         30.26  \n",
       "6     11.38      9.23      6.50         2.90         30.01  \n",
       "7     14.03      9.20      2.93         2.85         29.02  \n",
       "8     14.59      7.06      4.70         2.26         28.62  \n",
       "9     26.93      0.63      0.28         0.47         28.31  "
      ]
     },
     "execution_count": 7,
     "metadata": {},
     "output_type": "execute_result"
    }
   ],
   "source": [
    "data2 = data[data[\"Rank\"]<11]\n",
    "data2 # Return 'Rank' values that less than 11 "
   ]
  },
  {
   "cell_type": "code",
   "execution_count": 8,
   "id": "a9667015",
   "metadata": {
    "execution": {
     "iopub.execute_input": "2022-03-08T18:34:09.801272Z",
     "iopub.status.busy": "2022-03-08T18:34:09.800611Z",
     "iopub.status.idle": "2022-03-08T18:34:09.820012Z",
     "shell.execute_reply": "2022-03-08T18:34:09.821030Z",
     "shell.execute_reply.started": "2022-03-08T17:31:54.773339Z"
    },
    "papermill": {
     "duration": 0.047417,
     "end_time": "2022-03-08T18:34:09.821295",
     "exception": false,
     "start_time": "2022-03-08T18:34:09.773878",
     "status": "completed"
    },
    "tags": []
   },
   "outputs": [
    {
     "data": {
      "text/html": [
       "<div>\n",
       "<style scoped>\n",
       "    .dataframe tbody tr th:only-of-type {\n",
       "        vertical-align: middle;\n",
       "    }\n",
       "\n",
       "    .dataframe tbody tr th {\n",
       "        vertical-align: top;\n",
       "    }\n",
       "\n",
       "    .dataframe thead th {\n",
       "        text-align: right;\n",
       "    }\n",
       "</style>\n",
       "<table border=\"1\" class=\"dataframe\">\n",
       "  <thead>\n",
       "    <tr style=\"text-align: right;\">\n",
       "      <th></th>\n",
       "      <th>Rank</th>\n",
       "      <th>Name</th>\n",
       "      <th>Platform</th>\n",
       "      <th>Year</th>\n",
       "      <th>Genre</th>\n",
       "      <th>Publisher</th>\n",
       "      <th>NA_Sales</th>\n",
       "      <th>EU_Sales</th>\n",
       "      <th>JP_Sales</th>\n",
       "      <th>Other_Sales</th>\n",
       "      <th>Global_Sales</th>\n",
       "    </tr>\n",
       "  </thead>\n",
       "  <tbody>\n",
       "    <tr>\n",
       "      <th>0</th>\n",
       "      <td>1</td>\n",
       "      <td>Wii Sports</td>\n",
       "      <td>Wii</td>\n",
       "      <td>2006.0</td>\n",
       "      <td>Sports</td>\n",
       "      <td>Nintendo</td>\n",
       "      <td>41.49</td>\n",
       "      <td>29.02</td>\n",
       "      <td>3.77</td>\n",
       "      <td>8.46</td>\n",
       "      <td>82.74</td>\n",
       "    </tr>\n",
       "    <tr>\n",
       "      <th>2</th>\n",
       "      <td>3</td>\n",
       "      <td>Mario Kart Wii</td>\n",
       "      <td>Wii</td>\n",
       "      <td>2008.0</td>\n",
       "      <td>Racing</td>\n",
       "      <td>Nintendo</td>\n",
       "      <td>15.85</td>\n",
       "      <td>12.88</td>\n",
       "      <td>3.79</td>\n",
       "      <td>3.31</td>\n",
       "      <td>35.82</td>\n",
       "    </tr>\n",
       "    <tr>\n",
       "      <th>3</th>\n",
       "      <td>4</td>\n",
       "      <td>Wii Sports Resort</td>\n",
       "      <td>Wii</td>\n",
       "      <td>2009.0</td>\n",
       "      <td>Sports</td>\n",
       "      <td>Nintendo</td>\n",
       "      <td>15.75</td>\n",
       "      <td>11.01</td>\n",
       "      <td>3.28</td>\n",
       "      <td>2.96</td>\n",
       "      <td>33.00</td>\n",
       "    </tr>\n",
       "    <tr>\n",
       "      <th>6</th>\n",
       "      <td>7</td>\n",
       "      <td>New Super Mario Bros.</td>\n",
       "      <td>DS</td>\n",
       "      <td>2006.0</td>\n",
       "      <td>Platform</td>\n",
       "      <td>Nintendo</td>\n",
       "      <td>11.38</td>\n",
       "      <td>9.23</td>\n",
       "      <td>6.50</td>\n",
       "      <td>2.90</td>\n",
       "      <td>30.01</td>\n",
       "    </tr>\n",
       "    <tr>\n",
       "      <th>7</th>\n",
       "      <td>8</td>\n",
       "      <td>Wii Play</td>\n",
       "      <td>Wii</td>\n",
       "      <td>2006.0</td>\n",
       "      <td>Misc</td>\n",
       "      <td>Nintendo</td>\n",
       "      <td>14.03</td>\n",
       "      <td>9.20</td>\n",
       "      <td>2.93</td>\n",
       "      <td>2.85</td>\n",
       "      <td>29.02</td>\n",
       "    </tr>\n",
       "    <tr>\n",
       "      <th>8</th>\n",
       "      <td>9</td>\n",
       "      <td>New Super Mario Bros. Wii</td>\n",
       "      <td>Wii</td>\n",
       "      <td>2009.0</td>\n",
       "      <td>Platform</td>\n",
       "      <td>Nintendo</td>\n",
       "      <td>14.59</td>\n",
       "      <td>7.06</td>\n",
       "      <td>4.70</td>\n",
       "      <td>2.26</td>\n",
       "      <td>28.62</td>\n",
       "    </tr>\n",
       "  </tbody>\n",
       "</table>\n",
       "</div>"
      ],
      "text/plain": [
       "   Rank                       Name Platform    Year     Genre Publisher  \\\n",
       "0     1                 Wii Sports      Wii  2006.0    Sports  Nintendo   \n",
       "2     3             Mario Kart Wii      Wii  2008.0    Racing  Nintendo   \n",
       "3     4          Wii Sports Resort      Wii  2009.0    Sports  Nintendo   \n",
       "6     7      New Super Mario Bros.       DS  2006.0  Platform  Nintendo   \n",
       "7     8                   Wii Play      Wii  2006.0      Misc  Nintendo   \n",
       "8     9  New Super Mario Bros. Wii      Wii  2009.0  Platform  Nintendo   \n",
       "\n",
       "   NA_Sales  EU_Sales  JP_Sales  Other_Sales  Global_Sales  \n",
       "0     41.49     29.02      3.77         8.46         82.74  \n",
       "2     15.85     12.88      3.79         3.31         35.82  \n",
       "3     15.75     11.01      3.28         2.96         33.00  \n",
       "6     11.38      9.23      6.50         2.90         30.01  \n",
       "7     14.03      9.20      2.93         2.85         29.02  \n",
       "8     14.59      7.06      4.70         2.26         28.62  "
      ]
     },
     "execution_count": 8,
     "metadata": {},
     "output_type": "execute_result"
    }
   ],
   "source": [
    "data[(data[\"Rank\"]<11) & (data[\"Year\"] > 2000)] # And Operator\n",
    "## data[(data[\"Rank\"]<11) | (data[\"Year\"] > 2000)] # Also we can use Or Operator"
   ]
  },
  {
   "cell_type": "markdown",
   "id": "d773f33c",
   "metadata": {
    "papermill": {
     "duration": 0.024732,
     "end_time": "2022-03-08T18:34:09.872595",
     "exception": false,
     "start_time": "2022-03-08T18:34:09.847863",
     "status": "completed"
    },
    "tags": []
   },
   "source": [
    "# Data Cleaning"
   ]
  },
  {
   "cell_type": "markdown",
   "id": "62c68651",
   "metadata": {
    "papermill": {
     "duration": 0.024781,
     "end_time": "2022-03-08T18:34:09.923143",
     "exception": false,
     "start_time": "2022-03-08T18:34:09.898362",
     "status": "completed"
    },
    "tags": []
   },
   "source": [
    "**To analyze it better we will do some things**\n",
    "* The Dataset has 16.598 Rows and 11 Columns.\n",
    "* We will clean the NaN (Not a Number) values in dataset.\n",
    "* We will remove values which published later than 2015."
   ]
  },
  {
   "cell_type": "code",
   "execution_count": 9,
   "id": "b16e6f47",
   "metadata": {
    "execution": {
     "iopub.execute_input": "2022-03-08T18:34:09.975913Z",
     "iopub.status.busy": "2022-03-08T18:34:09.975252Z",
     "iopub.status.idle": "2022-03-08T18:34:09.996145Z",
     "shell.execute_reply": "2022-03-08T18:34:09.995559Z",
     "shell.execute_reply.started": "2022-03-08T16:34:13.364362Z"
    },
    "papermill": {
     "duration": 0.048332,
     "end_time": "2022-03-08T18:34:09.996300",
     "exception": false,
     "start_time": "2022-03-08T18:34:09.947968",
     "status": "completed"
    },
    "tags": []
   },
   "outputs": [],
   "source": [
    "data.dropna(axis = 0,how = 'any',inplace=True) # Clear NaN values.\n",
    "data.drop(data[data[\"Year\"]>2015].index,inplace=True) # Filter values and drop them."
   ]
  },
  {
   "cell_type": "markdown",
   "id": "b9d1e780",
   "metadata": {
    "papermill": {
     "duration": 0.024773,
     "end_time": "2022-03-08T18:34:10.045787",
     "exception": false,
     "start_time": "2022-03-08T18:34:10.021014",
     "status": "completed"
    },
    "tags": []
   },
   "source": [
    "* axis 0 --> Index \n",
    "* axis 1 --> Columns\n",
    "* inplace --> Modifies the data"
   ]
  },
  {
   "cell_type": "code",
   "execution_count": 10,
   "id": "c4b1109f",
   "metadata": {
    "execution": {
     "iopub.execute_input": "2022-03-08T18:34:10.102727Z",
     "iopub.status.busy": "2022-03-08T18:34:10.101732Z",
     "iopub.status.idle": "2022-03-08T18:34:10.127208Z",
     "shell.execute_reply": "2022-03-08T18:34:10.127706Z",
     "shell.execute_reply.started": "2022-03-08T16:34:18.501525Z"
    },
    "papermill": {
     "duration": 0.056561,
     "end_time": "2022-03-08T18:34:10.127885",
     "exception": false,
     "start_time": "2022-03-08T18:34:10.071324",
     "status": "completed"
    },
    "tags": []
   },
   "outputs": [
    {
     "data": {
      "text/html": [
       "<div>\n",
       "<style scoped>\n",
       "    .dataframe tbody tr th:only-of-type {\n",
       "        vertical-align: middle;\n",
       "    }\n",
       "\n",
       "    .dataframe tbody tr th {\n",
       "        vertical-align: top;\n",
       "    }\n",
       "\n",
       "    .dataframe thead th {\n",
       "        text-align: right;\n",
       "    }\n",
       "</style>\n",
       "<table border=\"1\" class=\"dataframe\">\n",
       "  <thead>\n",
       "    <tr style=\"text-align: right;\">\n",
       "      <th></th>\n",
       "      <th>Rank</th>\n",
       "      <th>Name</th>\n",
       "      <th>Platform</th>\n",
       "      <th>Year</th>\n",
       "      <th>Genre</th>\n",
       "      <th>Publisher</th>\n",
       "      <th>NA_Sales</th>\n",
       "      <th>EU_Sales</th>\n",
       "      <th>JP_Sales</th>\n",
       "      <th>Other_Sales</th>\n",
       "      <th>Global_Sales</th>\n",
       "    </tr>\n",
       "  </thead>\n",
       "  <tbody>\n",
       "    <tr>\n",
       "      <th>4510</th>\n",
       "      <td>4512</td>\n",
       "      <td>Rock Band 4</td>\n",
       "      <td>XOne</td>\n",
       "      <td>2015.0</td>\n",
       "      <td>Misc</td>\n",
       "      <td>Harmonix Music Systems</td>\n",
       "      <td>0.35</td>\n",
       "      <td>0.04</td>\n",
       "      <td>0.00</td>\n",
       "      <td>0.04</td>\n",
       "      <td>0.43</td>\n",
       "    </tr>\n",
       "    <tr>\n",
       "      <th>15979</th>\n",
       "      <td>15982</td>\n",
       "      <td>Xblaze: Lost Memories</td>\n",
       "      <td>PS3</td>\n",
       "      <td>2015.0</td>\n",
       "      <td>Adventure</td>\n",
       "      <td>Arc System Works</td>\n",
       "      <td>0.01</td>\n",
       "      <td>0.00</td>\n",
       "      <td>0.00</td>\n",
       "      <td>0.00</td>\n",
       "      <td>0.02</td>\n",
       "    </tr>\n",
       "    <tr>\n",
       "      <th>7607</th>\n",
       "      <td>7609</td>\n",
       "      <td>Saints Row IV</td>\n",
       "      <td>XOne</td>\n",
       "      <td>2015.0</td>\n",
       "      <td>Action</td>\n",
       "      <td>Deep Silver</td>\n",
       "      <td>0.10</td>\n",
       "      <td>0.09</td>\n",
       "      <td>0.00</td>\n",
       "      <td>0.02</td>\n",
       "      <td>0.20</td>\n",
       "    </tr>\n",
       "    <tr>\n",
       "      <th>4884</th>\n",
       "      <td>4886</td>\n",
       "      <td>Skylanders: SuperChargers</td>\n",
       "      <td>PS3</td>\n",
       "      <td>2015.0</td>\n",
       "      <td>Action</td>\n",
       "      <td>Activision</td>\n",
       "      <td>0.15</td>\n",
       "      <td>0.18</td>\n",
       "      <td>0.00</td>\n",
       "      <td>0.06</td>\n",
       "      <td>0.39</td>\n",
       "    </tr>\n",
       "    <tr>\n",
       "      <th>9918</th>\n",
       "      <td>9920</td>\n",
       "      <td>MegaTagmension Blanc + Neptune VS Zombies</td>\n",
       "      <td>PSV</td>\n",
       "      <td>2015.0</td>\n",
       "      <td>Action</td>\n",
       "      <td>Idea Factory International</td>\n",
       "      <td>0.02</td>\n",
       "      <td>0.03</td>\n",
       "      <td>0.05</td>\n",
       "      <td>0.01</td>\n",
       "      <td>0.12</td>\n",
       "    </tr>\n",
       "    <tr>\n",
       "      <th>...</th>\n",
       "      <td>...</td>\n",
       "      <td>...</td>\n",
       "      <td>...</td>\n",
       "      <td>...</td>\n",
       "      <td>...</td>\n",
       "      <td>...</td>\n",
       "      <td>...</td>\n",
       "      <td>...</td>\n",
       "      <td>...</td>\n",
       "      <td>...</td>\n",
       "      <td>...</td>\n",
       "    </tr>\n",
       "    <tr>\n",
       "      <th>1766</th>\n",
       "      <td>1768</td>\n",
       "      <td>Kaboom!</td>\n",
       "      <td>2600</td>\n",
       "      <td>1980.0</td>\n",
       "      <td>Misc</td>\n",
       "      <td>Activision</td>\n",
       "      <td>1.07</td>\n",
       "      <td>0.07</td>\n",
       "      <td>0.00</td>\n",
       "      <td>0.01</td>\n",
       "      <td>1.15</td>\n",
       "    </tr>\n",
       "    <tr>\n",
       "      <th>6896</th>\n",
       "      <td>6898</td>\n",
       "      <td>Checkers</td>\n",
       "      <td>2600</td>\n",
       "      <td>1980.0</td>\n",
       "      <td>Misc</td>\n",
       "      <td>Atari</td>\n",
       "      <td>0.22</td>\n",
       "      <td>0.01</td>\n",
       "      <td>0.00</td>\n",
       "      <td>0.00</td>\n",
       "      <td>0.24</td>\n",
       "    </tr>\n",
       "    <tr>\n",
       "      <th>258</th>\n",
       "      <td>259</td>\n",
       "      <td>Asteroids</td>\n",
       "      <td>2600</td>\n",
       "      <td>1980.0</td>\n",
       "      <td>Shooter</td>\n",
       "      <td>Atari</td>\n",
       "      <td>4.00</td>\n",
       "      <td>0.26</td>\n",
       "      <td>0.00</td>\n",
       "      <td>0.05</td>\n",
       "      <td>4.31</td>\n",
       "    </tr>\n",
       "    <tr>\n",
       "      <th>1969</th>\n",
       "      <td>1971</td>\n",
       "      <td>Defender</td>\n",
       "      <td>2600</td>\n",
       "      <td>1980.0</td>\n",
       "      <td>Misc</td>\n",
       "      <td>Atari</td>\n",
       "      <td>0.99</td>\n",
       "      <td>0.05</td>\n",
       "      <td>0.00</td>\n",
       "      <td>0.01</td>\n",
       "      <td>1.05</td>\n",
       "    </tr>\n",
       "    <tr>\n",
       "      <th>2669</th>\n",
       "      <td>2671</td>\n",
       "      <td>Boxing</td>\n",
       "      <td>2600</td>\n",
       "      <td>1980.0</td>\n",
       "      <td>Fighting</td>\n",
       "      <td>Activision</td>\n",
       "      <td>0.72</td>\n",
       "      <td>0.04</td>\n",
       "      <td>0.00</td>\n",
       "      <td>0.01</td>\n",
       "      <td>0.77</td>\n",
       "    </tr>\n",
       "  </tbody>\n",
       "</table>\n",
       "<p>15945 rows × 11 columns</p>\n",
       "</div>"
      ],
      "text/plain": [
       "        Rank                                       Name Platform    Year  \\\n",
       "4510    4512                                Rock Band 4     XOne  2015.0   \n",
       "15979  15982                      Xblaze: Lost Memories      PS3  2015.0   \n",
       "7607    7609                              Saints Row IV     XOne  2015.0   \n",
       "4884    4886                  Skylanders: SuperChargers      PS3  2015.0   \n",
       "9918    9920  MegaTagmension Blanc + Neptune VS Zombies      PSV  2015.0   \n",
       "...      ...                                        ...      ...     ...   \n",
       "1766    1768                                    Kaboom!     2600  1980.0   \n",
       "6896    6898                                   Checkers     2600  1980.0   \n",
       "258      259                                  Asteroids     2600  1980.0   \n",
       "1969    1971                                   Defender     2600  1980.0   \n",
       "2669    2671                                     Boxing     2600  1980.0   \n",
       "\n",
       "           Genre                   Publisher  NA_Sales  EU_Sales  JP_Sales  \\\n",
       "4510        Misc      Harmonix Music Systems      0.35      0.04      0.00   \n",
       "15979  Adventure            Arc System Works      0.01      0.00      0.00   \n",
       "7607      Action                 Deep Silver      0.10      0.09      0.00   \n",
       "4884      Action                  Activision      0.15      0.18      0.00   \n",
       "9918      Action  Idea Factory International      0.02      0.03      0.05   \n",
       "...          ...                         ...       ...       ...       ...   \n",
       "1766        Misc                  Activision      1.07      0.07      0.00   \n",
       "6896        Misc                       Atari      0.22      0.01      0.00   \n",
       "258      Shooter                       Atari      4.00      0.26      0.00   \n",
       "1969        Misc                       Atari      0.99      0.05      0.00   \n",
       "2669    Fighting                  Activision      0.72      0.04      0.00   \n",
       "\n",
       "       Other_Sales  Global_Sales  \n",
       "4510          0.04          0.43  \n",
       "15979         0.00          0.02  \n",
       "7607          0.02          0.20  \n",
       "4884          0.06          0.39  \n",
       "9918          0.01          0.12  \n",
       "...            ...           ...  \n",
       "1766          0.01          1.15  \n",
       "6896          0.00          0.24  \n",
       "258           0.05          4.31  \n",
       "1969          0.01          1.05  \n",
       "2669          0.01          0.77  \n",
       "\n",
       "[15945 rows x 11 columns]"
      ]
     },
     "execution_count": 10,
     "metadata": {},
     "output_type": "execute_result"
    }
   ],
   "source": [
    "data.sort_values(by=\"Year\",ascending=False)"
   ]
  },
  {
   "cell_type": "markdown",
   "id": "fa78a140",
   "metadata": {
    "papermill": {
     "duration": 0.025162,
     "end_time": "2022-03-08T18:34:10.178628",
     "exception": false,
     "start_time": "2022-03-08T18:34:10.153466",
     "status": "completed"
    },
    "tags": []
   },
   "source": []
  },
  {
   "cell_type": "markdown",
   "id": "d43d9b25",
   "metadata": {
    "papermill": {
     "duration": 0.025101,
     "end_time": "2022-03-08T18:34:10.229208",
     "exception": false,
     "start_time": "2022-03-08T18:34:10.204107",
     "status": "completed"
    },
    "tags": []
   },
   "source": [
    "# Data Visualization"
   ]
  },
  {
   "cell_type": "markdown",
   "id": "602dfea1",
   "metadata": {
    "papermill": {
     "duration": 0.024996,
     "end_time": "2022-03-08T18:34:10.279635",
     "exception": false,
     "start_time": "2022-03-08T18:34:10.254639",
     "status": "completed"
    },
    "tags": []
   },
   "source": [
    "**MATPLOTLIB**\n",
    "Matplot is a python library that help us to plot data. We will use 3 kind of plots.\n",
    "* Line Plot : We use it when x axis is time\n",
    "* Scatter Plot : We use it when there is correlation between two variables\n",
    "* Histogram Plot : We use it when we want to see distribution of numerical data"
   ]
  },
  {
   "cell_type": "code",
   "execution_count": 11,
   "id": "f564629c",
   "metadata": {
    "execution": {
     "iopub.execute_input": "2022-03-08T18:34:10.334011Z",
     "iopub.status.busy": "2022-03-08T18:34:10.333342Z",
     "iopub.status.idle": "2022-03-08T18:34:10.351150Z",
     "shell.execute_reply": "2022-03-08T18:34:10.351841Z",
     "shell.execute_reply.started": "2022-03-08T18:21:41.679084Z"
    },
    "papermill": {
     "duration": 0.0469,
     "end_time": "2022-03-08T18:34:10.352027",
     "exception": false,
     "start_time": "2022-03-08T18:34:10.305127",
     "status": "completed"
    },
    "tags": []
   },
   "outputs": [
    {
     "name": "stdout",
     "output_type": "stream",
     "text": [
      "<class 'pandas.core.frame.DataFrame'>\n",
      "Int64Index: 15945 entries, 0 to 16597\n",
      "Data columns (total 11 columns):\n",
      " #   Column        Non-Null Count  Dtype  \n",
      "---  ------        --------------  -----  \n",
      " 0   Rank          15945 non-null  int64  \n",
      " 1   Name          15945 non-null  object \n",
      " 2   Platform      15945 non-null  object \n",
      " 3   Year          15945 non-null  float64\n",
      " 4   Genre         15945 non-null  object \n",
      " 5   Publisher     15945 non-null  object \n",
      " 6   NA_Sales      15945 non-null  float64\n",
      " 7   EU_Sales      15945 non-null  float64\n",
      " 8   JP_Sales      15945 non-null  float64\n",
      " 9   Other_Sales   15945 non-null  float64\n",
      " 10  Global_Sales  15945 non-null  float64\n",
      "dtypes: float64(6), int64(1), object(4)\n",
      "memory usage: 1.5+ MB\n"
     ]
    }
   ],
   "source": [
    "data.info()"
   ]
  },
  {
   "cell_type": "code",
   "execution_count": 12,
   "id": "0da2337a",
   "metadata": {
    "execution": {
     "iopub.execute_input": "2022-03-08T18:34:10.407281Z",
     "iopub.status.busy": "2022-03-08T18:34:10.406618Z",
     "iopub.status.idle": "2022-03-08T18:34:10.678361Z",
     "shell.execute_reply": "2022-03-08T18:34:10.677697Z",
     "shell.execute_reply.started": "2022-03-08T18:25:48.079373Z"
    },
    "papermill": {
     "duration": 0.300368,
     "end_time": "2022-03-08T18:34:10.678530",
     "exception": false,
     "start_time": "2022-03-08T18:34:10.378162",
     "status": "completed"
    },
    "tags": []
   },
   "outputs": [
    {
     "data": {
      "image/png": "[encoded data removed]",
      "text/plain": [
       "<Figure size 432x288 with 1 Axes>"
      ]
     },
     "metadata": {
      "needs_background": "light"
     },
     "output_type": "display_data"
    }
   ],
   "source": [
    "# LINE PLOT\n",
    "# color = color, label = label, linewidth = width of line, alpha = opacity, grid = grid, linestyle = sytle of line\n",
    "data.Global_Sales.plot(kind = 'line',color = 'b',label = 'Global_Sales',linewidth = 1,alpha = 1,grid = True,linestyle = ':')\n",
    "data.EU_Sales.plot(kind = 'line',color = 'g',label = 'EU_Sales',linewidth = 1,alpha = 0.5,grid = True,linestyle = '-.')\n",
    "plt.legend(loc='upper right')     # info about lines\n",
    "plt.xlabel('x axis')\n",
    "plt.ylabel('y axis')              # axis\n",
    "plt.title('LINE PLOT')            # title = title of plot\n",
    "plt.show()"
   ]
  },
  {
   "cell_type": "code",
   "execution_count": 13,
   "id": "2bb6986b",
   "metadata": {
    "execution": {
     "iopub.execute_input": "2022-03-08T18:34:10.736696Z",
     "iopub.status.busy": "2022-03-08T18:34:10.736020Z",
     "iopub.status.idle": "2022-03-08T18:34:10.981636Z",
     "shell.execute_reply": "2022-03-08T18:34:10.980976Z",
     "shell.execute_reply.started": "2022-03-08T18:28:24.119340Z"
    },
    "papermill": {
     "duration": 0.275399,
     "end_time": "2022-03-08T18:34:10.981781",
     "exception": false,
     "start_time": "2022-03-08T18:34:10.706382",
     "status": "completed"
    },
    "tags": []
   },
   "outputs": [
    {
     "data": {
      "image/png": "[encoded data removed]",
      "text/plain": [
       "<Figure size 432x288 with 1 Axes>"
      ]
     },
     "metadata": {
      "needs_background": "light"
     },
     "output_type": "display_data"
    }
   ],
   "source": [
    "# SCATTER PLOT\n",
    "# X axis is Year Y axis is EU_Sales\n",
    "data.plot(kind='scatter',x='Year',y='EU_Sales',color='red',alpha=1)\n",
    "plt.xlabel('Year')              # label = name of label\n",
    "plt.ylabel('EU_Sales')\n",
    "plt.title('Year-EU Sales Scatter Plot')  # title = title of plot\n",
    "plt.show()"
   ]
  },
  {
   "cell_type": "code",
   "execution_count": 14,
   "id": "92269d99",
   "metadata": {
    "execution": {
     "iopub.execute_input": "2022-03-08T18:34:11.042191Z",
     "iopub.status.busy": "2022-03-08T18:34:11.041528Z",
     "iopub.status.idle": "2022-03-08T18:34:11.338017Z",
     "shell.execute_reply": "2022-03-08T18:34:11.337347Z",
     "shell.execute_reply.started": "2022-03-08T18:33:38.501217Z"
    },
    "papermill": {
     "duration": 0.327405,
     "end_time": "2022-03-08T18:34:11.338165",
     "exception": false,
     "start_time": "2022-03-08T18:34:11.010760",
     "status": "completed"
    },
    "tags": []
   },
   "outputs": [
    {
     "data": {
      "image/png": "[encoded data removed]",
      "text/plain": [
       "<Figure size 360x360 with 1 Axes>"
      ]
     },
     "metadata": {
      "needs_background": "light"
     },
     "output_type": "display_data"
    }
   ],
   "source": [
    "# HISTOGRAM PLOT\n",
    "# bins = number of bar in figure\n",
    "data.Year.plot(kind = 'hist',bins = 50,figsize = (5,5))\n",
    "plt.show()"
   ]
  },
  {
   "cell_type": "code",
   "execution_count": null,
   "id": "176a1e08",
   "metadata": {
    "papermill": {
     "duration": 0.028416,
     "end_time": "2022-03-08T18:34:11.395929",
     "exception": false,
     "start_time": "2022-03-08T18:34:11.367513",
     "status": "completed"
    },
    "tags": []
   },
   "outputs": [],
   "source": []
  }
 ],
 "metadata": {
  "kernelspec": {
   "display_name": "Python 3",
   "language": "python",
   "name": "python3"
  },
  "language_info": {
   "codemirror_mode": {
    "name": "ipython",
    "version": 3
   },
   "file_extension": ".py",
   "mimetype": "text/x-python",
   "name": "python",
   "nbconvert_exporter": "python",
   "pygments_lexer": "ipython3",
   "version": "3.7.12"
  },
  "papermill": {
   "default_parameters": {},
   "duration": 14.38515,
   "end_time": "2022-03-08T18:34:12.134712",
   "environment_variables": {},
   "exception": null,
   "input_path": "__notebook__.ipynb",
   "output_path": "__notebook__.ipynb",
   "parameters": {},
   "start_time": "2022-03-08T18:33:57.749562",
   "version": "2.3.3"
  }
 },
 "nbformat": 4,
 "nbformat_minor": 5
}
